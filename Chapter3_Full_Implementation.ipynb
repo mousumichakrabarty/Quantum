{
 "cells": [
  {
   "cell_type": "markdown",
   "id": "e4c2dc64",
   "metadata": {},
   "source": [
    "# Chapter 3 Implementation: Classical and Quantum Hybrid Analysis of Mutated Genes\n",
    "\n",
    "This notebook follows the methodology described in Chapter 3 of the dissertation. It includes data preprocessing, visualization, graph-theoretic analysis, classical deep learning, quantum/hybrid model development, and evaluation of results."
   ]
  },
  {
   "cell_type": "code",
   "execution_count": null,
   "id": "660ffa46",
   "metadata": {},
   "outputs": [],
   "source": [
    "\n",
    "# ============================\n",
    "# Import Required Packages\n",
    "# ============================\n",
    "\n",
    "# Data handling & preprocessing\n",
    "import pandas as pd\n",
    "import numpy as np\n",
    "\n",
    "# Visualization\n",
    "import matplotlib.pyplot as plt\n",
    "import seaborn as sns\n",
    "\n",
    "# Graph-theoretic analysis\n",
    "import networkx as nx\n",
    "\n",
    "# Machine learning - Classical CNN\n",
    "import tensorflow as tf\n",
    "from tensorflow.keras import layers, models\n",
    "\n",
    "# Quantum / Hybrid modeling\n",
    "import cirq\n",
    "import sympy\n",
    "import qiskit\n",
    "import tensorflow_quantum as tfq\n",
    "\n",
    "# Preprocessing utilities\n",
    "from sklearn.model_selection import train_test_split\n",
    "from sklearn.preprocessing import StandardScaler\n"
   ]
  },
  {
   "cell_type": "code",
   "execution_count": null,
   "id": "d926ac54",
   "metadata": {},
   "outputs": [],
   "source": [
    "\n",
    "import matplotlib.pyplot as plt\n",
    "\n",
    "fig, ax = plt.subplots(figsize=(10,6))\n",
    "ax.axis('off')\n",
    "\n",
    "# Workflow steps\n",
    "steps = [\n",
    "    \"Data Preprocessing & Visualization\",\n",
    "    \"Graph-Theoretic Analysis (Toposort + Centrality)\",\n",
    "    \"Classical CNN Baseline (TensorFlow)\",\n",
    "    \"Quantum/Hybrid Model (Qiskit + TFQ)\",\n",
    "    \"Evaluation & Interpretation\"\n",
    "]\n",
    "\n",
    "# Plot steps as boxes\n",
    "y_positions = list(range(len(steps)))[::-1]\n",
    "for i, step in enumerate(steps):\n",
    "    ax.text(0.5, y_positions[i], step, ha='center', va='center',\n",
    "            bbox=dict(boxstyle=\"round,pad=0.5\", edgecolor=\"black\", facecolor=\"lightblue\"))\n",
    "\n",
    "# Arrows between steps\n",
    "for i in range(len(steps)-1):\n",
    "    ax.annotate(\"\", xy=(0.5, y_positions[i]-0.5), xytext=(0.5, y_positions[i]-0.9),\n",
    "                arrowprops=dict(arrowstyle=\"->\", lw=2))\n",
    "\n",
    "ax.set_ylim(-1, len(steps)+1)\n",
    "ax.set_xlim(0, 1)\n",
    "plt.show()\n"
   ]
  },
  {
   "cell_type": "code",
   "execution_count": null,
   "id": "5d4347ba",
   "metadata": {},
   "outputs": [],
   "source": [
    "\n",
    "import pandas as pd\n",
    "import numpy as np\n",
    "import matplotlib.pyplot as plt\n",
    "import seaborn as sns\n",
    "import networkx as nx\n",
    "import tensorflow as tf\n",
    "from tensorflow.keras import layers, models\n",
    "# Quantum imports\n",
    "import tensorflow_quantum as tfq\n",
    "import cirq\n",
    "import sympy\n",
    "import qiskit\n"
   ]
  },
  {
   "cell_type": "markdown",
   "id": "aad40077",
   "metadata": {},
   "source": [
    "## 1. Data Preprocessing & Visualization"
   ]
  },
  {
   "cell_type": "code",
   "execution_count": null,
   "id": "7d3f7e55",
   "metadata": {},
   "outputs": [],
   "source": [
    "\n",
    "# Load datasets\n",
    "file_paths = [\n",
    "    \"Mutated_Genes.csv\",\n",
    "    \"Mutated_Genes (1).csv\",\n",
    "    \"Mutated_Genes (2).csv\"\n",
    "]\n",
    "\n",
    "dataframes = [pd.read_csv(path) for path in file_paths]\n",
    "\n",
    "# Cleaning function\n",
    "def clean_gene_df(df):\n",
    "    df = df.loc[:, ~df.columns.str.contains('^Unnamed')]\n",
    "    df = df.dropna(subset=['Gene'])\n",
    "    if 'Freq' in df.columns:\n",
    "        df['Freq'] = df['Freq'].astype(str).str.replace('%','').str.strip()\n",
    "        df['Freq'] = pd.to_numeric(df['Freq'], errors='coerce')\n",
    "    numeric_cols = ['MutSig(Q-value)', '# Mut', 'Profiled Samples']\n",
    "    for col in numeric_cols:\n",
    "        if col in df.columns:\n",
    "            df[col] = pd.to_numeric(df[col], errors='coerce')\n",
    "    return df\n",
    "\n",
    "cleaned_dfs = [clean_gene_df(df) for df in dataframes]\n",
    "merged_df = pd.concat(cleaned_dfs, ignore_index=True).drop_duplicates(subset=['Gene'])\n",
    "print(\"Final shape:\", merged_df.shape)\n",
    "\n",
    "# Visualization\n",
    "plt.figure(figsize=(10,6))\n",
    "sns.histplot(merged_df['Freq'].dropna(), bins=50, kde=True)\n",
    "plt.title(\"Distribution of Mutation Frequency Across Genes\")\n",
    "plt.xlabel(\"Mutation Frequency (%)\")\n",
    "plt.ylabel(\"Count\")\n",
    "plt.show()\n"
   ]
  },
  {
   "cell_type": "markdown",
   "id": "e223719c",
   "metadata": {},
   "source": [
    "## 2. Graph-Theoretic Analysis"
   ]
  },
  {
   "cell_type": "code",
   "execution_count": null,
   "id": "e7ba3fd2",
   "metadata": {},
   "outputs": [],
   "source": [
    "\n",
    "# Create directed graph\n",
    "G = nx.DiGraph()\n",
    "\n",
    "# Sort genes by mutation frequency\n",
    "sorted_genes = merged_df.sort_values(by=\"Freq\", ascending=False)\n",
    "\n",
    "# Add nodes and edges\n",
    "for gene in sorted_genes[\"Gene\"].head(200):\n",
    "    G.add_node(gene)\n",
    "genes_list = sorted_genes[\"Gene\"].head(200).tolist()\n",
    "for i in range(len(genes_list)-1):\n",
    "    G.add_edge(genes_list[i], genes_list[i+1])\n",
    "\n",
    "# Topological sort\n",
    "topo_sorted_genes = list(nx.topological_sort(G))\n",
    "print(\"Top 30 genes in topological order:\")\n",
    "print(topo_sorted_genes[:30])\n",
    "\n",
    "# Degree centrality\n",
    "deg_centrality = nx.degree_centrality(G)\n",
    "top_degree = sorted(deg_centrality.items(), key=lambda x: x[1], reverse=True)[:10]\n",
    "print(\"\\nTop 10 genes by degree centrality:\")\n",
    "print(top_degree)\n"
   ]
  },
  {
   "cell_type": "markdown",
   "id": "4fa08bff",
   "metadata": {},
   "source": [
    "## 3. Classical Deep Learning Baseline (CNN)"
   ]
  },
  {
   "cell_type": "code",
   "execution_count": null,
   "id": "a7cc2150",
   "metadata": {},
   "outputs": [],
   "source": [
    "\n",
    "# Example setup for CNN classification (mutation presence prediction)\n",
    "# Dummy labels created for illustration purposes (replace with real phenotype labels)\n",
    "\n",
    "X = merged_df[['# Mut', 'Freq', 'Profiled Samples']].fillna(0).values\n",
    "y = (merged_df['Freq'] > merged_df['Freq'].median()).astype(int).values\n",
    "\n",
    "# Normalize data\n",
    "from sklearn.model_selection import train_test_split\n",
    "from sklearn.preprocessing import StandardScaler\n",
    "\n",
    "scaler = StandardScaler()\n",
    "X = scaler.fit_transform(X)\n",
    "X = np.expand_dims(X, -1)  # reshape for CNN\n",
    "\n",
    "X_train, X_test, y_train, y_test = train_test_split(X, y, test_size=0.2, random_state=42)\n",
    "\n",
    "# Build CNN model\n",
    "cnn_model = models.Sequential([\n",
    "    layers.Conv1D(32, 2, activation='relu', input_shape=(X.shape[1],1)),\n",
    "    layers.MaxPooling1D(2),\n",
    "    layers.Flatten(),\n",
    "    layers.Dense(64, activation='relu'),\n",
    "    layers.Dense(1, activation='sigmoid')\n",
    "])\n",
    "\n",
    "cnn_model.compile(optimizer='adam', loss='binary_crossentropy', metrics=['accuracy'])\n",
    "history = cnn_model.fit(X_train, y_train, epochs=5, batch_size=32, validation_data=(X_test, y_test))\n",
    "\n",
    "cnn_eval = cnn_model.evaluate(X_test, y_test)\n",
    "print(\"CNN Test Evaluation:\", cnn_eval)\n"
   ]
  },
  {
   "cell_type": "markdown",
   "id": "7167ef51",
   "metadata": {},
   "source": [
    "## 4. Quantum/Hybrid Model Prototype"
   ]
  },
  {
   "cell_type": "code",
   "execution_count": null,
   "id": "2221d607",
   "metadata": {},
   "outputs": [],
   "source": [
    "\n",
    "# Setup quantum circuit example (TensorFlow Quantum)\n",
    "qubits = [cirq.GridQubit(0,i) for i in range(3)]\n",
    "\n",
    "def create_quantum_model(qubits):\n",
    "    circuit = cirq.Circuit()\n",
    "    for q in qubits:\n",
    "        circuit.append(cirq.H(q))\n",
    "    circuit.append(cirq.CZ(qubits[0], qubits[1]))\n",
    "    circuit.append(cirq.rx(sympy.Symbol(\"theta\"))(qubits[0]))\n",
    "    return circuit\n",
    "\n",
    "quantum_model = create_quantum_model(qubits)\n",
    "print(quantum_model)\n",
    "\n",
    "# Convert to TensorFlow Quantum model\n",
    "quantum_data = tfq.convert_to_tensor([quantum_model])\n",
    "theta = sympy.Symbol(\"theta\")\n",
    "readout_operators = [cirq.Z(qubits[0])]\n",
    "\n",
    "quantum_layer = tfq.layers.PQC(quantum_model, readout_operators)\n",
    "hybrid_model = models.Sequential([quantum_layer, layers.Dense(1, activation='sigmoid')])\n",
    "\n",
    "print(hybrid_model.summary())\n"
   ]
  },
  {
   "cell_type": "markdown",
   "id": "e55d10e9",
   "metadata": {},
   "source": [
    "## 5. Evaluation & Interpretation"
   ]
  },
  {
   "cell_type": "code",
   "execution_count": null,
   "id": "df121799",
   "metadata": {},
   "outputs": [],
   "source": [
    "\n",
    "# Compare classical CNN vs hybrid (example metrics placeholder)\n",
    "print(\"CNN Accuracy:\", cnn_eval[1])\n",
    "print(\"Hybrid model will be trained and compared similarly (requires mapping dataset into quantum circuits).\")\n",
    "\n",
    "# Interpretation: prioritizing cancer-related genes\n",
    "if \"Is Cancer Gene (source: OncoKB)\" in merged_df.columns:\n",
    "    cancer_genes = merged_df[merged_df[\"Is Cancer Gene (source: OncoKB)\"].str.contains(\"Yes\", na=False)][\"Gene\"]\n",
    "    important_in_order = [g for g in topo_sorted_genes if g in set(cancer_genes)]\n",
    "    print(\"Cancer-relevant genes in topological order (first 20):\")\n",
    "    print(important_in_order[:20])\n"
   ]
  }
 ],
 "metadata": {
  "language_info": {
   "name": "python"
  }
 },
 "nbformat": 4,
 "nbformat_minor": 5
}
